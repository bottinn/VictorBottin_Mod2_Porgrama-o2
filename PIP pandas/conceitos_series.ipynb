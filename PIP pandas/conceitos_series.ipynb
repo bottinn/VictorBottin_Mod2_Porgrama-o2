{
 "cells": [
  {
   "cell_type": "code",
   "execution_count": 1,
   "metadata": {},
   "outputs": [],
   "source": [
    "#Arquivos .ipynb (Interactive Python Notebook)\n",
    "import pandas as pd"
   ]
  },
  {
   "cell_type": "code",
   "execution_count": 2,
   "metadata": {},
   "outputs": [
    {
     "data": {
      "text/plain": [
       "pandas.core.series.Series"
      ]
     },
     "execution_count": 2,
     "metadata": {},
     "output_type": "execute_result"
    }
   ],
   "source": [
    "dados = [10, 20, 30, 40, 50]\n",
    "serie = pd.Series(dados)\n",
    "serie\n",
    "type(serie)"
   ]
  },
  {
   "cell_type": "code",
   "execution_count": 3,
   "metadata": {},
   "outputs": [],
   "source": [
    "#Series com dados de vendas mensais\n",
    "vendas_mensais = pd.Series(\n",
    "    [1000, 2000, 3000, 4000, 5000, 6000, 7000, 8000, 9000, 10000, 11000, 12000],\n",
    "    index=[\"Jan\", \"Fev\", \"Mar\", \"Abr\",\"Mai\",\"Jun\", \"Jul\",\"Ago\",\"Set\",\"Out\",\"Nov\",\"Dez\"]\n",
    ")"
   ]
  },
  {
   "cell_type": "code",
   "execution_count": 4,
   "metadata": {},
   "outputs": [
    {
     "data": {
      "text/plain": [
       "6500.0"
      ]
     },
     "execution_count": 4,
     "metadata": {},
     "output_type": "execute_result"
    }
   ],
   "source": [
    "#Calcular a média de vendas mensais\n",
    "media_vendas = vendas_mensais.mean()\n",
    "media_vendas"
   ]
  },
  {
   "cell_type": "code",
   "execution_count": 5,
   "metadata": {},
   "outputs": [
    {
     "data": {
      "text/plain": [
       "'Dez'"
      ]
     },
     "execution_count": 5,
     "metadata": {},
     "output_type": "execute_result"
    }
   ],
   "source": [
    "#Mês com a maior venda\n",
    "mes_maior_venda = vendas_mensais.idxmax()\n",
    "mes_maior_venda"
   ]
  },
  {
   "cell_type": "code",
   "execution_count": 6,
   "metadata": {},
   "outputs": [
    {
     "data": {
      "text/plain": [
       "Jul     7000\n",
       "Ago     8000\n",
       "Set     9000\n",
       "Out    10000\n",
       "Nov    11000\n",
       "Dez    12000\n",
       "dtype: int64"
      ]
     },
     "execution_count": 6,
     "metadata": {},
     "output_type": "execute_result"
    }
   ],
   "source": [
    "#Exibir eventos acima da média mensal R$6500,00\n",
    "vendas_acima_media = vendas_mensais[vendas_mensais > media_vendas]\n",
    "vendas_acima_media"
   ]
  }
 ],
 "metadata": {
  "kernelspec": {
   "display_name": "Python 3.8.6 64-bit",
   "language": "python",
   "name": "python3"
  },
  "language_info": {
   "codemirror_mode": {
    "name": "ipython",
    "version": 3
   },
   "file_extension": ".py",
   "mimetype": "text/x-python",
   "name": "python",
   "nbconvert_exporter": "python",
   "pygments_lexer": "ipython3",
   "version": "3.8.6"
  },
  "orig_nbformat": 4,
  "vscode": {
   "interpreter": {
    "hash": "c5a41a991e20e0a8b70d302d7113550a9cc3c567446b5421a5ab04272d1c42ab"
   }
  }
 },
 "nbformat": 4,
 "nbformat_minor": 2
}
