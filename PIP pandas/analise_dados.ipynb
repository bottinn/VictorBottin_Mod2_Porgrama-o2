{
 "cells": [
  {
   "cell_type": "code",
   "execution_count": 3,
   "metadata": {},
   "outputs": [],
   "source": [
    "import pandas as pd\n",
    "import matplotlib.pyplot as plt"
   ]
  },
  {
   "cell_type": "code",
   "execution_count": 4,
   "metadata": {},
   "outputs": [],
   "source": [
    "dados_vendas = {\n",
    "    \"Produto\" : [\"Camisa\", \"Calça\", \"Saia\", \"Camisa\", \"Calça\", \"Saia\", \"Camiseta\", \"Calça\", \"Saia\"],\n",
    "    \"Preço\" : [50, 100, 80, 55, 110, 85, 45, 95, 90],\n",
    "    \"Quantidade\" : [10, 15, 20, 5, 10, 15, 30, 20, 10],\n",
    "    \"Mês\" : [\"Jan\", \"Jan\" ,\"Jan\" ,\"Fev\" ,\"Fev\" ,\"Fev\" ,\"Mar\" ,\"Mar\" ,\"Mar\",]\n",
    "}"
   ]
  },
  {
   "cell_type": "code",
   "execution_count": 6,
   "metadata": {},
   "outputs": [
    {
     "data": {
      "text/html": [
       "<div>\n",
       "<style scoped>\n",
       "    .dataframe tbody tr th:only-of-type {\n",
       "        vertical-align: middle;\n",
       "    }\n",
       "\n",
       "    .dataframe tbody tr th {\n",
       "        vertical-align: top;\n",
       "    }\n",
       "\n",
       "    .dataframe thead th {\n",
       "        text-align: right;\n",
       "    }\n",
       "</style>\n",
       "<table border=\"1\" class=\"dataframe\">\n",
       "  <thead>\n",
       "    <tr style=\"text-align: right;\">\n",
       "      <th></th>\n",
       "      <th>Produto</th>\n",
       "      <th>Preço</th>\n",
       "      <th>Quantidade</th>\n",
       "      <th>Mês</th>\n",
       "    </tr>\n",
       "  </thead>\n",
       "  <tbody>\n",
       "    <tr>\n",
       "      <th>0</th>\n",
       "      <td>Camisa</td>\n",
       "      <td>50</td>\n",
       "      <td>10</td>\n",
       "      <td>Jan</td>\n",
       "    </tr>\n",
       "    <tr>\n",
       "      <th>1</th>\n",
       "      <td>Calça</td>\n",
       "      <td>100</td>\n",
       "      <td>15</td>\n",
       "      <td>Jan</td>\n",
       "    </tr>\n",
       "    <tr>\n",
       "      <th>2</th>\n",
       "      <td>Saia</td>\n",
       "      <td>80</td>\n",
       "      <td>20</td>\n",
       "      <td>Jan</td>\n",
       "    </tr>\n",
       "    <tr>\n",
       "      <th>3</th>\n",
       "      <td>Camisa</td>\n",
       "      <td>55</td>\n",
       "      <td>5</td>\n",
       "      <td>Fev</td>\n",
       "    </tr>\n",
       "    <tr>\n",
       "      <th>4</th>\n",
       "      <td>Calça</td>\n",
       "      <td>110</td>\n",
       "      <td>10</td>\n",
       "      <td>Fev</td>\n",
       "    </tr>\n",
       "    <tr>\n",
       "      <th>5</th>\n",
       "      <td>Saia</td>\n",
       "      <td>85</td>\n",
       "      <td>15</td>\n",
       "      <td>Fev</td>\n",
       "    </tr>\n",
       "    <tr>\n",
       "      <th>6</th>\n",
       "      <td>Camiseta</td>\n",
       "      <td>45</td>\n",
       "      <td>30</td>\n",
       "      <td>Mar</td>\n",
       "    </tr>\n",
       "    <tr>\n",
       "      <th>7</th>\n",
       "      <td>Calça</td>\n",
       "      <td>95</td>\n",
       "      <td>20</td>\n",
       "      <td>Mar</td>\n",
       "    </tr>\n",
       "    <tr>\n",
       "      <th>8</th>\n",
       "      <td>Saia</td>\n",
       "      <td>90</td>\n",
       "      <td>10</td>\n",
       "      <td>Mar</td>\n",
       "    </tr>\n",
       "  </tbody>\n",
       "</table>\n",
       "</div>"
      ],
      "text/plain": [
       "    Produto  Preço  Quantidade  Mês\n",
       "0    Camisa     50          10  Jan\n",
       "1     Calça    100          15  Jan\n",
       "2      Saia     80          20  Jan\n",
       "3    Camisa     55           5  Fev\n",
       "4     Calça    110          10  Fev\n",
       "5      Saia     85          15  Fev\n",
       "6  Camiseta     45          30  Mar\n",
       "7     Calça     95          20  Mar\n",
       "8      Saia     90          10  Mar"
      ]
     },
     "execution_count": 6,
     "metadata": {},
     "output_type": "execute_result"
    }
   ],
   "source": [
    "    df_vendas = pd.DataFrame(dados_vendas)\n",
    "    df_vendas"
   ]
  },
  {
   "cell_type": "code",
   "execution_count": 7,
   "metadata": {},
   "outputs": [
    {
     "data": {
      "text/html": [
       "<div>\n",
       "<style scoped>\n",
       "    .dataframe tbody tr th:only-of-type {\n",
       "        vertical-align: middle;\n",
       "    }\n",
       "\n",
       "    .dataframe tbody tr th {\n",
       "        vertical-align: top;\n",
       "    }\n",
       "\n",
       "    .dataframe thead th {\n",
       "        text-align: right;\n",
       "    }\n",
       "</style>\n",
       "<table border=\"1\" class=\"dataframe\">\n",
       "  <thead>\n",
       "    <tr style=\"text-align: right;\">\n",
       "      <th></th>\n",
       "      <th>Produto</th>\n",
       "      <th>Preço</th>\n",
       "      <th>Quantidade</th>\n",
       "      <th>Mês</th>\n",
       "      <th>Total</th>\n",
       "    </tr>\n",
       "  </thead>\n",
       "  <tbody>\n",
       "    <tr>\n",
       "      <th>0</th>\n",
       "      <td>Camisa</td>\n",
       "      <td>50</td>\n",
       "      <td>10</td>\n",
       "      <td>Jan</td>\n",
       "      <td>500</td>\n",
       "    </tr>\n",
       "    <tr>\n",
       "      <th>1</th>\n",
       "      <td>Calça</td>\n",
       "      <td>100</td>\n",
       "      <td>15</td>\n",
       "      <td>Jan</td>\n",
       "      <td>1500</td>\n",
       "    </tr>\n",
       "    <tr>\n",
       "      <th>2</th>\n",
       "      <td>Saia</td>\n",
       "      <td>80</td>\n",
       "      <td>20</td>\n",
       "      <td>Jan</td>\n",
       "      <td>1600</td>\n",
       "    </tr>\n",
       "    <tr>\n",
       "      <th>3</th>\n",
       "      <td>Camisa</td>\n",
       "      <td>55</td>\n",
       "      <td>5</td>\n",
       "      <td>Fev</td>\n",
       "      <td>275</td>\n",
       "    </tr>\n",
       "    <tr>\n",
       "      <th>4</th>\n",
       "      <td>Calça</td>\n",
       "      <td>110</td>\n",
       "      <td>10</td>\n",
       "      <td>Fev</td>\n",
       "      <td>1100</td>\n",
       "    </tr>\n",
       "    <tr>\n",
       "      <th>5</th>\n",
       "      <td>Saia</td>\n",
       "      <td>85</td>\n",
       "      <td>15</td>\n",
       "      <td>Fev</td>\n",
       "      <td>1275</td>\n",
       "    </tr>\n",
       "    <tr>\n",
       "      <th>6</th>\n",
       "      <td>Camiseta</td>\n",
       "      <td>45</td>\n",
       "      <td>30</td>\n",
       "      <td>Mar</td>\n",
       "      <td>1350</td>\n",
       "    </tr>\n",
       "    <tr>\n",
       "      <th>7</th>\n",
       "      <td>Calça</td>\n",
       "      <td>95</td>\n",
       "      <td>20</td>\n",
       "      <td>Mar</td>\n",
       "      <td>1900</td>\n",
       "    </tr>\n",
       "    <tr>\n",
       "      <th>8</th>\n",
       "      <td>Saia</td>\n",
       "      <td>90</td>\n",
       "      <td>10</td>\n",
       "      <td>Mar</td>\n",
       "      <td>900</td>\n",
       "    </tr>\n",
       "  </tbody>\n",
       "</table>\n",
       "</div>"
      ],
      "text/plain": [
       "    Produto  Preço  Quantidade  Mês  Total\n",
       "0    Camisa     50          10  Jan    500\n",
       "1     Calça    100          15  Jan   1500\n",
       "2      Saia     80          20  Jan   1600\n",
       "3    Camisa     55           5  Fev    275\n",
       "4     Calça    110          10  Fev   1100\n",
       "5      Saia     85          15  Fev   1275\n",
       "6  Camiseta     45          30  Mar   1350\n",
       "7     Calça     95          20  Mar   1900\n",
       "8      Saia     90          10  Mar    900"
      ]
     },
     "execution_count": 7,
     "metadata": {},
     "output_type": "execute_result"
    }
   ],
   "source": [
    "df_vendas[\"Total\"] = df_vendas[\"Preço\"] * df_vendas[\"Quantidade\"]\n",
    "df_vendas"
   ]
  },
  {
   "cell_type": "code",
   "execution_count": 8,
   "metadata": {},
   "outputs": [
    {
     "data": {
      "text/html": [
       "<div>\n",
       "<style scoped>\n",
       "    .dataframe tbody tr th:only-of-type {\n",
       "        vertical-align: middle;\n",
       "    }\n",
       "\n",
       "    .dataframe tbody tr th {\n",
       "        vertical-align: top;\n",
       "    }\n",
       "\n",
       "    .dataframe thead th {\n",
       "        text-align: right;\n",
       "    }\n",
       "</style>\n",
       "<table border=\"1\" class=\"dataframe\">\n",
       "  <thead>\n",
       "    <tr style=\"text-align: right;\">\n",
       "      <th></th>\n",
       "      <th>Produto</th>\n",
       "      <th>Total</th>\n",
       "    </tr>\n",
       "  </thead>\n",
       "  <tbody>\n",
       "    <tr>\n",
       "      <th>0</th>\n",
       "      <td>Calça</td>\n",
       "      <td>4500</td>\n",
       "    </tr>\n",
       "    <tr>\n",
       "      <th>1</th>\n",
       "      <td>Camisa</td>\n",
       "      <td>775</td>\n",
       "    </tr>\n",
       "    <tr>\n",
       "      <th>2</th>\n",
       "      <td>Camiseta</td>\n",
       "      <td>1350</td>\n",
       "    </tr>\n",
       "    <tr>\n",
       "      <th>3</th>\n",
       "      <td>Saia</td>\n",
       "      <td>3775</td>\n",
       "    </tr>\n",
       "  </tbody>\n",
       "</table>\n",
       "</div>"
      ],
      "text/plain": [
       "    Produto  Total\n",
       "0     Calça   4500\n",
       "1    Camisa    775\n",
       "2  Camiseta   1350\n",
       "3      Saia   3775"
      ]
     },
     "execution_count": 8,
     "metadata": {},
     "output_type": "execute_result"
    }
   ],
   "source": [
    "resumo_vendas = df_vendas.groupby(\"Produto\")[\"Total\"].sum().reset_index()\n",
    "resumo_vendas"
   ]
  },
  {
   "cell_type": "code",
   "execution_count": 19,
   "metadata": {},
   "outputs": [
    {
     "data": {
      "text/plain": [
       "([0, 1, 2, 3],\n",
       " [Text(0, 0, 'Calça'),\n",
       "  Text(1, 0, 'Camisa'),\n",
       "  Text(2, 0, 'Camiseta'),\n",
       "  Text(3, 0, 'Saia')])"
      ]
     },
     "execution_count": 19,
     "metadata": {},
     "output_type": "execute_result"
    },
    {
     "data": {
      "image/png": "[encoded data removed]",
      "text/plain": [
       "<Figure size 800x500 with 1 Axes>"
      ]
     },
     "metadata": {},
     "output_type": "display_data"
    }
   ],
   "source": [
    "plt.figure(figsize=(8, 5))\n",
    "plt.bar(resumo_vendas[\"Produto\"], resumo_vendas[\"Total\"], color=\"brown\")\n",
    "plt.title(\"Vendas Total por Produto\")\n",
    "plt.xlabel(\"Produto\")\n",
    "plt.ylabel(\"Total\")\n",
    "plt.xticks(rotation=45)"
   ]
  }
 ],
 "metadata": {
  "kernelspec": {
   "display_name": "Python 3.8.6 64-bit",
   "language": "python",
   "name": "python3"
  },
  "language_info": {
   "codemirror_mode": {
    "name": "ipython",
    "version": 3
   },
   "file_extension": ".py",
   "mimetype": "text/x-python",
   "name": "python",
   "nbconvert_exporter": "python",
   "pygments_lexer": "ipython3",
   "version": "3.8.6"
  },
  "orig_nbformat": 4,
  "vscode": {
   "interpreter": {
    "hash": "c5a41a991e20e0a8b70d302d7113550a9cc3c567446b5421a5ab04272d1c42ab"
   }
  }
 },
 "nbformat": 4,
 "nbformat_minor": 2
}
